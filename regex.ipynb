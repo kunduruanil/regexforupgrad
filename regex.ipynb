{
 "cells": [
  {
   "cell_type": "markdown",
   "metadata": {},
   "source": [
    "# Syntax\n",
    "\n",
    "Now that we've seen what regular expressions are, what they're good for, let's get down to business. Learning to use regular expressions is mostly about learning regular expression syntax, the special ways we can characters together to make regular expressions. This notebook will be the bulk of our workshop."
   ]
  },
  {
   "cell_type": "markdown",
   "metadata": {},
   "source": [
    "## Regular expression syntax<a id='section 1'></a>\n",
    "\n",
    "All regular expressions are composed of two types of characters: \n",
    "* Literals (normal characters)\n",
    "* Metacharacters (special characters)\n",
    "\n",
    "### Matching characters exactly\n",
    "\n",
    "Literals match exactly what they are, they mean what they say. For example, the regular expression `Berkeley` will match the string \"Berkeley\". (It won't match \"berkeley\", \"berkeeley\" or \"berkely\"). Most characters are literals.\n",
    "\n",
    "In the example below, the regular expression `regular` will match the string \"regular\" exactly."
   ]
  },
  {
   "cell_type": "code",
   "execution_count": 7,
   "metadata": {},
   "outputs": [
    {
     "data": {
      "text/plain": [
       "['egular', 'Regular']"
      ]
     },
     "execution_count": 7,
     "metadata": {},
     "output_type": "execute_result"
    }
   ],
   "source": [
    "import re\n",
    "pattern = 'R?egular'\n",
    "test_string = 'we are practising our regular expressions Regular,we are fouced lerners'\n",
    "re.findall(pattern, test_string)"
   ]
  },
  {
   "cell_type": "code",
   "execution_count": 8,
   "metadata": {},
   "outputs": [
    {
     "data": {
      "text/plain": [
       "1"
      ]
     },
     "execution_count": 8,
     "metadata": {},
     "output_type": "execute_result"
    }
   ],
   "source": [
    "test_string.count(\"Regular\")"
   ]
  },
  {
   "cell_type": "markdown",
   "metadata": {},
   "source": [
    "### Matching special patterns\n",
    "\n",
    "Metacharacters don't match themselves. Instead, they signal that some out-of-the-ordinary thing should be matched, or they affect other portions of the RE by repeating them or changing their meaning. For example, you might want find all mentions of \"dogs\" in a text, but you also want to include \"dog\". That is, you want to match \"dogs\" but you don't care if the \"s\" is or isn't there. Or you might want to find the word \"the\" but only at the beginning of a sentence, not in the middle. For these out-of-the-ordinary patterns, we use metacharacters.\n",
    "\n",
    "In this workshop, we'll discuss the following metacharacters:\n",
    "\n",
    ". ^ $ * + ? { } [ ] \\ | ( )"
   ]
  },
  {
   "cell_type": "code",
   "execution_count": 9,
   "metadata": {},
   "outputs": [
    {
     "data": {
      "text/plain": [
       "['dogs', 'dog']"
      ]
     },
     "execution_count": 9,
     "metadata": {},
     "output_type": "execute_result"
    }
   ],
   "source": [
    "pattern = 'dogs?'\n",
    "test_string = \"I like dogs, but my dog doesn't like me.\"\n",
    "re.findall(pattern, test_string)"
   ]
  },
  {
   "cell_type": "code",
   "execution_count": 10,
   "metadata": {},
   "outputs": [
    {
     "data": {
      "text/plain": [
       "['the']"
      ]
     },
     "execution_count": 10,
     "metadata": {},
     "output_type": "execute_result"
    }
   ],
   "source": [
    "pattern = '^the'\n",
    "test_string = \"the best thing about the theatre is the atmosphere\"\n",
    "re.findall(pattern, test_string)"
   ]
  },
  {
   "cell_type": "markdown",
   "metadata": {},
   "source": [
    "### Our first metacharacters: [ and ]\n",
    "\n",
    "The first metacharacters we’ll look at are [ and ]. They’re used for specifying a character class, which is a set of characters that you wish to match."
   ]
  },
  {
   "cell_type": "code",
   "execution_count": 11,
   "metadata": {},
   "outputs": [
    {
     "data": {
      "text/plain": [
       "['e', 'i', 'e', 'a', 'a', 'a', 'e', 'e', 'o', 'o', 'a', 'a', 'e']"
      ]
     },
     "execution_count": 11,
     "metadata": {},
     "output_type": "execute_result"
    }
   ],
   "source": [
    "vowel_pattern = '[aeiou]'\n",
    "test_string = 'The first metacharacters we’ll look at are '\n",
    "re.findall(vowel_pattern, test_string)"
   ]
  },
  {
   "cell_type": "markdown",
   "metadata": {},
   "source": [
    "#### Challenge 2\n",
    "Find all the p's and q's in the test string below."
   ]
  },
  {
   "cell_type": "code",
   "execution_count": 13,
   "metadata": {},
   "outputs": [],
   "source": [
    "test_string = \"Quick, there's a large goat filled with pizzaz. Is there a path to the queen of Zanzabar?\""
   ]
  },
  {
   "cell_type": "code",
   "execution_count": 14,
   "metadata": {},
   "outputs": [
    {
     "data": {
      "text/plain": [
       "['p', 'p', 'q']"
      ]
     },
     "execution_count": 14,
     "metadata": {},
     "output_type": "execute_result"
    }
   ],
   "source": []
  },
  {
   "cell_type": "markdown",
   "metadata": {},
   "source": [
    "#### Challenge 3\n",
    "Find all the vowels in the test sentence below."
   ]
  },
  {
   "cell_type": "code",
   "execution_count": 7,
   "metadata": {},
   "outputs": [],
   "source": [
    "test_string = 'the quick brown fox jumped over the lazy dog'"
   ]
  },
  {
   "cell_type": "code",
   "execution_count": 17,
   "metadata": {},
   "outputs": [
    {
     "data": {
      "text/plain": [
       "['u',\n",
       " 'i',\n",
       " 'e',\n",
       " 'e',\n",
       " 'a',\n",
       " 'a',\n",
       " 'e',\n",
       " 'o',\n",
       " 'a',\n",
       " 'i',\n",
       " 'e',\n",
       " 'i',\n",
       " 'i',\n",
       " 'a',\n",
       " 'e',\n",
       " 'e',\n",
       " 'a',\n",
       " 'a',\n",
       " 'o',\n",
       " 'e',\n",
       " 'u',\n",
       " 'e',\n",
       " 'e',\n",
       " 'o',\n",
       " 'a',\n",
       " 'a',\n",
       " 'a']"
      ]
     },
     "execution_count": 17,
     "metadata": {},
     "output_type": "execute_result"
    }
   ],
   "source": []
  },
  {
   "cell_type": "markdown",
   "metadata": {},
   "source": [
    "### Ranges\n",
    "\n",
    "Characters can be listed individually, or a range of characters can be indicated by giving two characters and separating them by a '-'. For example, `[abc]` will match any of the characters a, b, or c; this is the same as `[a-c]`.\n",
    "\n",
    "#### Challenge 4\n",
    "Find all the capital letters in the following string."
   ]
  },
  {
   "cell_type": "code",
   "execution_count": 15,
   "metadata": {},
   "outputs": [],
   "source": [
    "test_string = 'The 44th President of the United States of America was Barack Obama'"
   ]
  },
  {
   "cell_type": "code",
   "execution_count": 16,
   "metadata": {},
   "outputs": [
    {
     "data": {
      "text/plain": [
       "['T', 'P', 'U', 'S', 'A', 'B', 'O']"
      ]
     },
     "execution_count": 16,
     "metadata": {},
     "output_type": "execute_result"
    }
   ],
   "source": []
  },
  {
   "cell_type": "markdown",
   "metadata": {},
   "source": [
    "### Complements\n",
    "\n",
    "You can match the characters not listed within the class by complementing the set. This is indicated by including a `^` as the first character of the class; `^` outside a character class will simply match the `^` character. For example, `[^5]` will match any character except `5`."
   ]
  },
  {
   "cell_type": "code",
   "execution_count": 40,
   "metadata": {},
   "outputs": [
    {
     "data": {
      "text/plain": [
       "['h', 'e', ' ', 'u', 'i']"
      ]
     },
     "execution_count": 40,
     "metadata": {},
     "output_type": "execute_result"
    }
   ],
   "source": [
    "everything_but_t = '[^tq]'\n",
    "test_string = 'the quick brown fox jumped over the lazy dog'\n",
    "re.findall(everything_but_t, test_string)[:5]"
   ]
  },
  {
   "cell_type": "markdown",
   "metadata": {},
   "source": [
    "#### Challenge 5\n",
    "Find all the consonants in the test sentence below."
   ]
  },
  {
   "cell_type": "code",
   "execution_count": 17,
   "metadata": {},
   "outputs": [],
   "source": [
    "test_string = 'the quick brown fox jumped over the lazy dog'"
   ]
  },
  {
   "cell_type": "code",
   "execution_count": 18,
   "metadata": {},
   "outputs": [
    {
     "data": {
      "text/plain": [
       "['t',\n",
       " 'h',\n",
       " 'e',\n",
       " 'q',\n",
       " 'u',\n",
       " 'i',\n",
       " 'c',\n",
       " 'k',\n",
       " 'b',\n",
       " 'r',\n",
       " 'o',\n",
       " 'w',\n",
       " 'n',\n",
       " 'f',\n",
       " 'o',\n",
       " 'x',\n",
       " 'j',\n",
       " 'u',\n",
       " 'm',\n",
       " 'p',\n",
       " 'e',\n",
       " 'd',\n",
       " 'o',\n",
       " 'v',\n",
       " 'e',\n",
       " 'r',\n",
       " 't',\n",
       " 'h',\n",
       " 'e',\n",
       " 'l',\n",
       " 'a',\n",
       " 'z',\n",
       " 'y',\n",
       " 'd',\n",
       " 'o',\n",
       " 'g']"
      ]
     },
     "execution_count": 18,
     "metadata": {},
     "output_type": "execute_result"
    }
   ],
   "source": []
  },
  {
   "cell_type": "markdown",
   "metadata": {},
   "source": [
    "#### Challenge 6\n",
    "Find all the `^` characters in the following test sentence."
   ]
  },
  {
   "cell_type": "code",
   "execution_count": 19,
   "metadata": {},
   "outputs": [],
   "source": [
    "test_string = \"\"\"You can match the characters not listed within the class by complementing the set. \n",
    "This is indicated by including a ^ as the first character of the class; \n",
    "^ outside a character class will simply match the ^ character. \n",
    "For example, [^5] will match any character except 5.\"\"\""
   ]
  },
  {
   "cell_type": "code",
   "execution_count": null,
   "metadata": {},
   "outputs": [],
   "source": []
  },
  {
   "cell_type": "markdown",
   "metadata": {},
   "source": [
    "### Matching metacharacters literally\n",
    "\n",
    "Challenge 6 is a bit of a trick. The problem is that we want to match the `^` character, but it's interpreted as a metacharacter, a character which has a special meaning. If we want to literally match the `^`, we have to \"escape\" its special meaning. For this, we use the `\\`.\n",
    "\n",
    "#### Challenge 7\n",
    "Find all the square brackets `[` and `]` in the following test string"
   ]
  },
  {
   "cell_type": "code",
   "execution_count": 25,
   "metadata": {},
   "outputs": [],
   "source": [
    "test_string = \"The first metacharacters  we'll look at are [ and ].\""
   ]
  },
  {
   "cell_type": "code",
   "execution_count": 24,
   "metadata": {},
   "outputs": [
    {
     "data": {
      "text/plain": [
       "['[', '[']"
      ]
     },
     "execution_count": 24,
     "metadata": {},
     "output_type": "execute_result"
    }
   ],
   "source": []
  },
  {
   "cell_type": "markdown",
   "metadata": {},
   "source": [
    "### Character classes\n",
    "\n",
    "The backslash `\\` has another use in regexes, in addition to escaping metacharacters. It's used as the first character in special two-character combinations that have special meanings. These special two-character combinations are really shorthand for sets of characters.\n",
    "\n",
    "|      Character     |       Meaning      |   Shorthand for  |\n",
    "|:------------------:|:------------------:|:----------:|\n",
    "|        `\\d`        |      any digit     | `[0-9]` |\n",
    "|        `\\D`        |    any non-digit   |    `[^0-9]`    |\n",
    "|        `\\s`        |   any whitespace   |    `[ \\t\\n\\r\\f\\v]`    |\n",
    "|        `\\S`        | any non-whitespace |    `[^ \\t\\n\\r\\f\\v]`    |\n",
    "|        `\\w`        |      any word      |    `[a-zA-Z0-9_]`    |\n",
    "| what do you think? |    any non-word    |         `?`   |\n",
    "\n",
    "Now here's a quick tip. When writing regular expressions in Python, use raw strings instead of normal strings. Raw strings are preceded by an `r` in Python code. If we don't, the Python interpreter will try to convert backslashed characters before passing them to the regular expression engine. This will end in tears. You can read more about this [here](https://docs.python.org/3/library/re.html#module-re).\n",
    "\n",
    "#### Challenge 8\n",
    "Find all three digit prices in the following test sentence. Remember the `$` is a metacharacter so needs to be escaped."
   ]
  },
  {
   "cell_type": "raw",
   "metadata": {},
   "source": [
    "^         # Start of string.\n",
    "(?:       # Try to match...\n",
    " 0        # either a 0\n",
    "|         # or\n",
    "[1-9]\\d*  # an integer number > 0, no leading 0 allowed.\n",
    ")         # End of integer part.\n",
    "(?:       # Try to match...\n",
    " \\.       # a decimal point.\n",
    " (?!      # Assert that it's not possible to match\n",
    "  .*000   # any string that contains 000 from this point onwards.\n",
    " )        # End of lookahead assertion.\n",
    " \\d+      # Match one or more digits.\n",
    ")?        # End of the (optional) decimal part\n",
    "$         # End of string."
   ]
  },
  {
   "cell_type": "code",
   "execution_count": 36,
   "metadata": {},
   "outputs": [],
   "source": [
    "test_string = 'The iPhone X costs over $999, while the Android competitor comes in at around $5786875.'"
   ]
  },
  {
   "cell_type": "code",
   "execution_count": 37,
   "metadata": {},
   "outputs": [
    {
     "data": {
      "text/plain": [
       "['$999', '$5786875']"
      ]
     },
     "execution_count": 37,
     "metadata": {},
     "output_type": "execute_result"
    }
   ],
   "source": [
    "re.findall(r'\\$\\d+', test_string)"
   ]
  },
  {
   "cell_type": "markdown",
   "metadata": {},
   "source": [
    "### Repeating things\n",
    "\n",
    "Being able to match varying sets of characters is the first thing regular expressions can do that isn’t already possible with the methods available on strings. However, if that was the only additional capability of regexes, they wouldn’t be much of an advance. Another capability is that you can specify that portions of the RE must be repeated a certain number of times.\n",
    "\n",
    "| Character |        Meaning        |    Example    |                Matches               |\n",
    "|:---------:|:---------------------:|:-------------:|:------------------------------------:|\n",
    "|   `{n}`   |    exactly n times    |     `a{3}`    |                 'aaa'                |\n",
    "|  `{n, m}` | between n and m times | `[1-9]{2, 4}` |          '12', '123', '1234'         |\n",
    "|    `?`    |      0 or 1 times     |   `colou?r`   |           'color', 'colour'          |\n",
    "|    `*`    |    0 or more times    |    `data!*`   | 'data', 'data!', 'data!!', 'data!!!' |\n",
    "|    `+`    |    1 or more times    |     `lo+l`    |        'lol', 'lool', 'loool'        |\n",
    "\n",
    "#### Challenge 9\n",
    "Find all prices in the following test sentence."
   ]
  },
  {
   "cell_type": "code",
   "execution_count": 41,
   "metadata": {},
   "outputs": [],
   "source": [
    "test_string = \"\"\"The iPhone X costs over $999, while the Android competitor comes in at around $550.\n",
    "Apple's MacBook Pro costs $1200, while just a few years ago it was $1700.\n",
    "A new charger for the MacBook costs over $8.\n",
    "\"\"\""
   ]
  },
  {
   "cell_type": "code",
   "execution_count": 46,
   "metadata": {},
   "outputs": [
    {
     "data": {
      "text/plain": [
       "['$999', '$550', '$1200', '$1700', '$8']"
      ]
     },
     "execution_count": 46,
     "metadata": {},
     "output_type": "execute_result"
    }
   ],
   "source": []
  },
  {
   "cell_type": "markdown",
   "metadata": {},
   "source": [
    "### The `re` module in Python\n",
    "\n",
    "The regular expression syntax that we've seen so far covers most of the common use cases. Let's take a break from the syntax, and focus on Python's re module. It has some quirks that we should talk about, after which we'll get back to the syntax.\n",
    "\n",
    "Up until now we've only used `re.findall`. This function takes two arguments, a `pattern` and a `text` to search through. It returns a list of all the substrings in `text` that follow `pattern`. \n",
    "\n",
    "Two other common functions are `re.match` and `re.search`. These take the same two arguments as `re.findall`. `re.search` looks through `text` for the **first** occurrence of `pattern`. `re.match` only looks at the start of `text`. Rather than returning a list, these two functions return a `match` object, which contains information about the substring in `text` that matches `pattern`. For example, it gives you the starting and ending index of the substring. If no such matching substring is found, they return `None`."
   ]
  },
  {
   "cell_type": "code",
   "execution_count": 66,
   "metadata": {},
   "outputs": [
    {
     "data": {
      "text/plain": [
       "<re.Match object; span=(24, 28), match='$999'>"
      ]
     },
     "execution_count": 66,
     "metadata": {},
     "output_type": "execute_result"
    }
   ],
   "source": [
    "price_pattern = r'\\$\\d+'\n",
    "test_string = \"\"\"The iPhone X costs over $999, while the Android competitor comes in at around $550.\n",
    "Apple's MacBook Pro costs $1200, while just a few years ago it was $1700.\n",
    "A new charger for the MacBook costs over $80.\n",
    "\"\"\"\n",
    "m = re.search(price_pattern, test_string)\n",
    "m"
   ]
  },
  {
   "cell_type": "markdown",
   "metadata": {},
   "source": [
    "The `match` object has everal methods and attributes; the most important ones are `group()`, `start()`, `end()` and `span()`. `group()` returns the string that matched the regex, `start()` and `end()` return the relevant indicies, and `span()` returns the indicies as a tuple."
   ]
  },
  {
   "cell_type": "code",
   "execution_count": 101,
   "metadata": {},
   "outputs": [
    {
     "name": "stdout",
     "output_type": "stream",
     "text": [
      "$999\n",
      "24\n",
      "28\n",
      "(24, 28)\n"
     ]
    }
   ],
   "source": [
    "print(m.group())\n",
    "print(m.start())\n",
    "print(m.end())\n",
    "print(m.span())"
   ]
  },
  {
   "cell_type": "markdown",
   "metadata": {},
   "source": [
    "In general, I prefer just using `re.findall`, because I rarely need the information that `match` object instances give.\n",
    "\n",
    "#### Challenge 10\n",
    "Write a function called `first_vowel` that takes in a single word, and returns the first vowel. If there is no vowel in the word, it should return the string `\"Hey, no vowel!\"`."
   ]
  },
  {
   "cell_type": "code",
   "execution_count": 67,
   "metadata": {},
   "outputs": [],
   "source": []
  },
  {
   "cell_type": "code",
   "execution_count": 68,
   "metadata": {},
   "outputs": [
    {
     "name": "stdout",
     "output_type": "stream",
     "text": [
      "e\n",
      "Hey, no vowel!\n"
     ]
    }
   ],
   "source": [
    "print(first_vowel('hello'))\n",
    "print(first_vowel('sky'))"
   ]
  },
  {
   "cell_type": "markdown",
   "metadata": {},
   "source": [
    "### Replacing things\n",
    "\n",
    "So far we've just been finding, but I promised you advanced \"find and replace\"! That's what `re.sub` is for. `re.sub` takes three arguments: a `pattern` to look for, a `replacement` string to replace it with, and a `text` to look for `pattern` in.\n",
    "\n",
    "#### Challenge 11\n",
    "Replace all the prices in the test string below with `\"one million dollars\"`."
   ]
  },
  {
   "cell_type": "code",
   "execution_count": 102,
   "metadata": {},
   "outputs": [],
   "source": [
    "test_string = \"\"\"The iPhone X costs over $999, while the Android competitor comes in at around $550.\n",
    "Apple's MacBook Pro costs $1200, while just a few years ago it was $1700.\n",
    "A new charger for the MacBook costs over $80.\n",
    "\"\"\""
   ]
  },
  {
   "cell_type": "code",
   "execution_count": 103,
   "metadata": {},
   "outputs": [
    {
     "data": {
      "text/plain": [
       "\"The iPhone X costs over one million dollars, while the Android competitor comes in at around one million dollars.\\nApple's MacBook Pro costs one million dollars, while just a few years ago it was one million dollars.\\nA new charger for the MacBook costs over one million dollars.\\n\""
      ]
     },
     "execution_count": 103,
     "metadata": {},
     "output_type": "execute_result"
    }
   ],
   "source": []
  },
  {
   "cell_type": "markdown",
   "metadata": {},
   "source": [
    "So far we've used the module-level functions `re.findall` and friends. We can also `compile` a regex into a `pattern` object. The `pattern` object has methods with identical names to the module-level functions. The benefits are if you're searching over huge texts. It's entirely the same as what we've been doing so far so no need to complicate things. But you'll see it around so it's good to know about."
   ]
  },
  {
   "cell_type": "code",
   "execution_count": 37,
   "metadata": {},
   "outputs": [
    {
     "data": {
      "text/plain": [
       "['a', 'a', 'a', 'a', 'a']"
      ]
     },
     "execution_count": 37,
     "metadata": {},
     "output_type": "execute_result"
    }
   ],
   "source": [
    "vowel_pattern = re.compile(r'[aeiou]')\n",
    "test_string = 'abracadabra'\n",
    "vowel_pattern.findall(test_string)"
   ]
  },
  {
   "cell_type": "markdown",
   "metadata": {},
   "source": [
    "You might also want to experiment with `re.split`."
   ]
  },
  {
   "cell_type": "code",
   "execution_count": null,
   "metadata": {},
   "outputs": [],
   "source": []
  },
  {
   "cell_type": "code",
   "execution_count": null,
   "metadata": {},
   "outputs": [],
   "source": []
  },
  {
   "cell_type": "code",
   "execution_count": null,
   "metadata": {},
   "outputs": [],
   "source": []
  },
  {
   "cell_type": "code",
   "execution_count": null,
   "metadata": {},
   "outputs": [],
   "source": []
  },
  {
   "cell_type": "code",
   "execution_count": null,
   "metadata": {},
   "outputs": [],
   "source": []
  },
  {
   "cell_type": "code",
   "execution_count": null,
   "metadata": {},
   "outputs": [],
   "source": []
  },
  {
   "cell_type": "code",
   "execution_count": null,
   "metadata": {},
   "outputs": [],
   "source": []
  },
  {
   "cell_type": "code",
   "execution_count": null,
   "metadata": {},
   "outputs": [],
   "source": []
  },
  {
   "cell_type": "markdown",
   "metadata": {},
   "source": [
    "#### Challenge 12\n",
    "You've received a problematic dataset from a fellow researcher, with some data entry errors/discrepancies. How would you use regular expressions to correct these errors?\n",
    "\n",
    "1. Replace all instances of \"district\" or \"District\" with \"County\". \n",
    "2. Replace all instances of \"Not available\" or \"[Name] looking up\" with numeric codes.  "
   ]
  },
  {
   "cell_type": "code",
   "execution_count": 43,
   "metadata": {},
   "outputs": [],
   "source": [
    "import os\n",
    "DATA_DIR = '../data'\n",
    "fname = os.path.join(DATA_DIR, 'usecase1/problem_dataset.csv')\n",
    "\n",
    "with open(fname) as f:\n",
    "    text = f.read()\n",
    "\n",
    "# DO SOME REGEX MAGIC\n",
    "# cleaned_text = ...\n",
    "\n",
    "\n",
    "# with open(\"data/usecase1/cleaned_dataset.csv\", \"w\") as f:\n",
    "#     f.write(cleaned_text)\n"
   ]
  },
  {
   "cell_type": "markdown",
   "metadata": {},
   "source": [
    "#### Challenge 13\n",
    "Find all words in the following string about robots."
   ]
  },
  {
   "cell_type": "code",
   "execution_count": 65,
   "metadata": {},
   "outputs": [],
   "source": [
    "robot_string = '''Robots are branching out. A new prototype soft robot takes inspiration from plants by growing to explore its environment.\n",
    "\n",
    "Vines and some fungi extend from their tips to explore their surroundings. \n",
    "Elliot Hawkes of the University of California in Santa Barbara \n",
    "and his colleagues designed a bot that works \n",
    "on similar principles. Its mechanical body \n",
    "sits inside a plastic tube reel that extends \n",
    "through pressurized inflation, a method that some \n",
    "invertebrates like peanut worms (Sipunculus nudus)\n",
    "also use to extend their appendages. The plastic \n",
    "tubing has two compartments, and inflating one \n",
    "side or the other changes the extension direction. \n",
    "A camera sensor at the tip alerts the bot when it’s \n",
    "about to run into something.\n",
    "\n",
    "In the lab, Hawkes and his colleagues \n",
    "programmed the robot to form 3-D structures such \n",
    "as a radio antenna, turn off a valve, navigate a maze, \n",
    "swim through glue, act as a fire extinguisher, squeeze \n",
    "through tight gaps, shimmy through fly paper and slither \n",
    "across a bed of nails. The soft bot can extend up to \n",
    "72 meters, and unlike plants, it can grow at a speed of \n",
    "10 meters per second, the team reports July 19 in Science Robotics. \n",
    "The design could serve as a model for building robots \n",
    "that can traverse constrained environments\n",
    "\n",
    "This isn’t the first robot to take \n",
    "inspiration from plants. One plantlike \n",
    "predecessor was a robot modeled on roots.'''"
   ]
  },
  {
   "cell_type": "code",
   "execution_count": 66,
   "metadata": {},
   "outputs": [
    {
     "data": {
      "text/plain": [
       "['Robots', 'robot', 'robot', 'Robot', 'robots', 'robot', 'robot']"
      ]
     },
     "execution_count": 66,
     "metadata": {},
     "output_type": "execute_result"
    }
   ],
   "source": []
  },
  {
   "cell_type": "markdown",
   "metadata": {},
   "source": [
    "#### Challenge 14\n",
    "We can use parentheses to match certain parts of a regular expression."
   ]
  },
  {
   "cell_type": "code",
   "execution_count": 72,
   "metadata": {},
   "outputs": [
    {
     "name": "stdout",
     "output_type": "stream",
     "text": [
      "999\n",
      "99\n"
     ]
    }
   ],
   "source": [
    "price_pattern = pattern = r'\\$(\\d+)\\.(\\d{2})'\n",
    "test_string = \"The iPhone X costs over $999.99, while the Android competitor comes in at around $550.50.\"\n",
    "m = re.search(price_pattern, test_string)\n",
    "dollars, cents = m.group(1), m.group(2)\n",
    "print(dollars)\n",
    "print(cents)"
   ]
  },
  {
   "cell_type": "markdown",
   "metadata": {},
   "source": [
    "Use parentheses to group together the area code of a US phone number. Write a function called `area_code` that takes in a string, and if it is a valid US phone number, returns the area code. If not, it should return the string `\"Hey, not a phone number!\"`."
   ]
  },
  {
   "cell_type": "code",
   "execution_count": 62,
   "metadata": {},
   "outputs": [],
   "source": []
  },
  {
   "cell_type": "markdown",
   "metadata": {},
   "source": [
    "#### Challenge 15\n",
    "Parentheses can also be used to group together characters in a regular expression so that metacharacters can apply to the entire group, not just a single character."
   ]
  },
  {
   "cell_type": "code",
   "execution_count": 75,
   "metadata": {},
   "outputs": [
    {
     "data": {
      "text/plain": [
       "['wo', '']"
      ]
     },
     "execution_count": 75,
     "metadata": {},
     "output_type": "execute_result"
    }
   ],
   "source": [
    "bat_pattern = r'Bat(wo)?man'\n",
    "test_string = 'Batwoman, Batman and Robin are good friends.'\n",
    "re.findall(bat_pattern, test_string)"
   ]
  },
  {
   "cell_type": "markdown",
   "metadata": {},
   "source": [
    "What went wrong? Well, parentheses have a double life in regular expression syntax. They are used to signal groups like in Challenge 14, but also to let metacharacters apply to those groups. Those two uses interfere with each other. If we want the `?` to apply to the whole `wo` sequence, but we want the whole substring that matches, we have to use a non-capturing group."
   ]
  },
  {
   "cell_type": "code",
   "execution_count": 64,
   "metadata": {},
   "outputs": [
    {
     "data": {
      "text/plain": [
       "['Batwoman', 'Batman']"
      ]
     },
     "execution_count": 64,
     "metadata": {},
     "output_type": "execute_result"
    }
   ],
   "source": [
    "bat_pattern = r'Bat(?:wo)?man'\n",
    "test_string = 'Batwoman, Batman and Robin are good friends.'\n",
    "re.findall(bat_pattern, test_string)"
   ]
  },
  {
   "cell_type": "markdown",
   "metadata": {},
   "source": [
    "Look back at challenge 13, where we looked for words to do with robots. We missed 'Robotics'. Using your newfound non-capturing group skills, correct this."
   ]
  },
  {
   "cell_type": "code",
   "execution_count": 68,
   "metadata": {},
   "outputs": [
    {
     "data": {
      "text/plain": [
       "['Robots', 'robot', 'robot', 'Robotics', 'robots', 'robot', 'robot']"
      ]
     },
     "execution_count": 68,
     "metadata": {},
     "output_type": "execute_result"
    }
   ],
   "source": []
  },
  {
   "cell_type": "markdown",
   "metadata": {},
   "source": [
    "### Challenging challenges\n",
    "\n",
    "#### Jane Eyre\n",
    "\n",
    "I've downloaded the entire text of Charlotte Bront&euml;'s _Jane Eyre_ from [Project Gutenberg](https://www.gutenberg.org/). Imagine you're a literary scholar studying various aspects of Bront&euml;'s work. You might begin by extracting out various pieces of information from this book, and comparing them with other works. Here are some tasks you might need to do.\n",
    "\n",
    "- Find all years (e.g. 1847).\n",
    "- Find all direct quotes (text between quotation marks).\n",
    "- Find all Mr.'s, Mrs.'s and and Misses (including the name that comes after it).\n",
    "- Find all lines that use the same word at least twice.\n",
    "- Write a function that takes in a plural noun and returns the singular version.\n",
    "- Write a function that takes in a past tense verb and returns the base form.\n",
    "- Find the relative frequencies of I, you, she, he, we and they.\n",
    "- Find all URLs (before and after that actual text, there's some legal information from Project Gutenberg).\n",
    "- Find all email addresses (see above)\n"
   ]
  },
  {
   "cell_type": "code",
   "execution_count": 69,
   "metadata": {},
   "outputs": [],
   "source": [
    "fname = os.path.join(DATA_DIR, 'usecase3/jane_eyre.txt')\n",
    "with open(fname) as f:\n",
    "    text = f.read()"
   ]
  },
  {
   "cell_type": "code",
   "execution_count": null,
   "metadata": {},
   "outputs": [],
   "source": []
  },
  {
   "cell_type": "markdown",
   "metadata": {},
   "source": [
    "#### Reddit\n",
    "\n",
    "I've also included a dataset (in csv format) from [Reddit](https://www.reddit.com/). Regular expressions are really useful for working with text data from the web. In the variable `questions`, you'll find all sorts of questions that people ask on the Internet. Find out:\n",
    "\n",
    "- How many of them are \"serious\" (these include the word \"serious\" in some spelling variant)\n",
    "- What words do people use before \"of Reddit\"?"
   ]
  },
  {
   "cell_type": "code",
   "execution_count": 76,
   "metadata": {},
   "outputs": [],
   "source": [
    "import csv\n",
    "fname = os.path.join(DATA_DIR, 'askreddit_2015.csv')\n",
    "with open(fname) as f:\n",
    "    reader = csv.reader(f)\n",
    "    posts_with_header = list(reader)\n",
    "    posts = posts_with_header[1:]\n",
    "    questions = [p[0] for p in posts]"
   ]
  },
  {
   "cell_type": "code",
   "execution_count": null,
   "metadata": {},
   "outputs": [],
   "source": []
  }
 ],
 "metadata": {
  "anaconda-cloud": {},
  "kernelspec": {
   "display_name": "Python 3",
   "language": "python",
   "name": "python3"
  },
  "language_info": {
   "codemirror_mode": {
    "name": "ipython",
    "version": 3
   },
   "file_extension": ".py",
   "mimetype": "text/x-python",
   "name": "python",
   "nbconvert_exporter": "python",
   "pygments_lexer": "ipython3",
   "version": "3.8.8"
  }
 },
 "nbformat": 4,
 "nbformat_minor": 1
}
